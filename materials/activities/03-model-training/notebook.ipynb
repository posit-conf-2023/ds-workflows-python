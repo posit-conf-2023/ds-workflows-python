{
 "cells": [
  {
   "attachments": {},
   "cell_type": "markdown",
   "metadata": {},
   "source": [
    "# Model building and Deployment\n",
    "\n",
    "In this exercise we will build a machine learning model, introduce the vetiver package for machine learning operations, and learn how to use the package to deploy models to Posit Connect."
   ]
  },
  {
   "attachments": {},
   "cell_type": "markdown",
   "metadata": {},
   "source": [
    "#### We are starting a new activity, so deactivate the older and create a new virtual environment!"
   ]
  },
  {
   "attachments": {},
   "cell_type": "markdown",
   "metadata": {},
   "source": [
    "```bash\n",
    "# deactivate older venv\n",
    "deactivate \n",
    "\n",
    "# Create a virtual environment\n",
    "# Use our alias!\n",
    "py-venv\n",
    "python -m pip install -r requirements.txt\n",
    "\n",
    "```"
   ]
  },
  {
   "cell_type": "code",
   "execution_count": 9,
   "metadata": {},
   "outputs": [],
   "source": [
    "# import required libraries\n",
    "import os\n",
    "import ibis\n",
    "from dotenv import load_dotenv\n",
    "import pandas as pd\n",
    "import xgboost as xgb\n",
    "import numpy as np\n",
    "from sklearn.model_selection import train_test_split\n",
    "from sklearn import metrics\n",
    "from sklearn.ensemble import RandomForestClassifier\n",
    "import vetiver\n",
    "import pins\n",
    "import rsconnect\n",
    "from datetime import datetime, timedelta"
   ]
  },
  {
   "attachments": {},
   "cell_type": "markdown",
   "metadata": {},
   "source": [
    "### Task 1 - Exploratory Data Analysis"
   ]
  },
  {
   "attachments": {},
   "cell_type": "markdown",
   "metadata": {},
   "source": [
    "#### 🔄 Task"
   ]
  },
  {
   "attachments": {},
   "cell_type": "markdown",
   "metadata": {},
   "source": [
    "Before we build a machine learning model to predict if an inspection would be successful or not, we need to understand the data.\n",
    "Use this time to see what features we have available and how they can be used for our model.\n"
   ]
  },
  {
   "cell_type": "code",
   "execution_count": null,
   "metadata": {},
   "outputs": [],
   "source": [
    "# begin by making a connection to the database using the ibis package\n",
    "\n",
    "import os\n",
    "import ibis\n",
    "\n",
    "con = ibis.postgres.connect(\n",
    "    ...\n",
    ")\n",
    "\n",
    "inspection_data = con.table(\"food_inspection_validated\").to_pandas()"
   ]
  },
  {
   "cell_type": "markdown",
   "metadata": {},
   "source": [
    "There are different functions available in pandas dataframe to do this, like *columns*, *groupby*, *count*, and *unique*"
   ]
  },
  {
   "cell_type": "code",
   "execution_count": 7,
   "metadata": {},
   "outputs": [],
   "source": [
    "# (Uncomment to run some analysis)\n",
    "#\n",
    "#inspection_data.columns\n",
    "#inspection_data.dtypes\n",
    "#inspection_data.groupby(\"facility_type\").count()[\"inspection_id\"].sort_values(ascending=False)\n",
    "#inspection_data.groupby(\"results\").count()[\"inspection_id\"]\n",
    "#inspection_data['results'].unique()\n",
    "#inspection_data.groupby(\"risk\").count()[\"inspection_id\"]\n",
    "#inspection_data['violations']"
   ]
  },
  {
   "cell_type": "markdown",
   "metadata": {},
   "source": [
    "**For Bonus Points**"
   ]
  },
  {
   "cell_type": "markdown",
   "metadata": {},
   "source": [
    "If you want, you can also use *matplotlib* to plot relationships between different features!"
   ]
  },
  {
   "attachments": {},
   "cell_type": "markdown",
   "metadata": {},
   "source": [
    "### Task 2 - Feature Engineering"
   ]
  },
  {
   "cell_type": "markdown",
   "metadata": {},
   "source": [
    "#### 🔄 Task"
   ]
  },
  {
   "cell_type": "markdown",
   "metadata": {},
   "source": [
    "Now that we have some understanding of our columns, lets look into building features for our model\n",
    "- which columns can we use as features?\n",
    "- do all the column values make sense? eg. look at *category* column values\n",
    "- are these columns in the right format?\n",
    "- what kind of encoding can we do define categorical columns?\n",
    "- Do we need to build a new feature to correctly capture the data?"
   ]
  },
  {
   "cell_type": "markdown",
   "metadata": {},
   "source": [
    "For this execise, we will use the following model features\n",
    "- facility type, encoded as \"BAKERY\", \"RESTUARANT\" and \"GROCERY STORE\"\n",
    "- Risk encoded as HIGH, MEDIUM and LOW\n",
    "- Cumulative violations, as the number of violations till that inspection date"
   ]
  },
  {
   "attachments": {},
   "cell_type": "markdown",
   "metadata": {},
   "source": [
    "**Note**: this is just a preliminary list, you can always add or remove features"
   ]
  },
  {
   "cell_type": "code",
   "execution_count": 10,
   "metadata": {},
   "outputs": [],
   "source": [
    "# clean up input data for modelling\n",
    "\n",
    "inspection_data_for_training = (\n",
    "    inspection_data\n",
    "    # remove NA licenses\n",
    "    .loc[inspection_data[\"license_\"] != 0]\n",
    "    # only use inspections in the last year\n",
    "    .loc[inspection_data[\"inspection_date\"]>=(inspection_data[\"inspection_date\"].max() - timedelta(days=365))]\n",
    "    # select only Restaurant, Bakery, Grocery Store\n",
    "    .loc[\n",
    "        inspection_data[\"facility_type\"].isin([\"RESTAURANT\", \"BAKERY\", \"GROCERY STORE\"])\n",
    "    ]\n",
    "    .pipe(\n",
    "        lambda inspection_data: pd.get_dummies(\n",
    "            inspection_data, columns=[\"facility_type\"], prefix=[\"\"], dtype=int\n",
    "        )\n",
    "    )\n",
    "    .rename(\n",
    "        columns={\n",
    "            \"_BAKERY\": \"BAKERY\",\n",
    "            \"_RESTAURANT\": \"RESTAURANT\",\n",
    "            \"_GROCERY STORE\": \"GROCERY_STORE\",\n",
    "        }\n",
    "    )\n",
    "    # filter out relavant inspection results\n",
    "    .loc[inspection_data[\"results\"].isin([\"FAIL\", \"PASS\", \"PASS W/ CONDITIONS\"])]\n",
    "    # make Pass with Conditions results as Fail, since they are not completely pass\n",
    "    .assign(results=(lambda x: x[\"results\"].replace([\"PASS W/ CONDITIONS\"], \"FAIL\")))\n",
    "    .assign(RESULTS=(lambda x: x[\"results\"].map({\"PASS\": 1, \"FAIL\": 0}).astype(int)))\n",
    "    .drop(columns=[\"results\"])\n",
    "    # filter out valid risk entries\n",
    "    .loc[\n",
    "        inspection_data[\"risk\"].isin(\n",
    "            [\"RISK 1 (HIGH)\", \"RISK 2 (MEDIUM)\", \"RISK 3 (LOW)\"]\n",
    "        )\n",
    "    ]\n",
    "    # create dummy variables for risk\n",
    "    .pipe(\n",
    "        lambda inspection_data: pd.get_dummies(\n",
    "            inspection_data, columns=[\"risk\"], prefix=[\"\"], dtype=int\n",
    "        )\n",
    "    )\n",
    "    .rename(\n",
    "        columns={\n",
    "            \"_RISK 1 (HIGH)\": \"HIGH_RISK\",\n",
    "            \"_RISK 2 (MEDIUM)\": \"MEDIUM_RISK\",\n",
    "            \"_RISK 3 (LOW)\": \"LOW_RISK\",\n",
    "        }\n",
    "    )\n",
    "    # sort results by business and inspection date\n",
    "    .sort_values(by=[\"license_\", \"inspection_date\"])\n",
    ")"
   ]
  },
  {
   "cell_type": "code",
   "execution_count": 11,
   "metadata": {},
   "outputs": [],
   "source": [
    "# count violations for each inspection\n",
    "inspection_data_for_training[\"count_violations\"] = (\n",
    "    inspection_data_for_training[\"violations\"]\n",
    "    .apply(lambda x: len(x[1:-1].split('\",\"')) if x is not None else None)\n",
    "    .fillna(0)\n",
    ")\n",
    "# count cumilative violations for each date for a license\n",
    "inspection_data_for_training[\"CUM_VIOLATIONS\"] = inspection_data_for_training.groupby(\n",
    "    [\"license_\"]\n",
    ")[\"count_violations\"].cumsum()"
   ]
  },
  {
   "cell_type": "code",
   "execution_count": 12,
   "metadata": {},
   "outputs": [
    {
     "data": {
      "text/html": [
       "<div>\n",
       "<style scoped>\n",
       "    .dataframe tbody tr th:only-of-type {\n",
       "        vertical-align: middle;\n",
       "    }\n",
       "\n",
       "    .dataframe tbody tr th {\n",
       "        vertical-align: top;\n",
       "    }\n",
       "\n",
       "    .dataframe thead th {\n",
       "        text-align: right;\n",
       "    }\n",
       "</style>\n",
       "<table border=\"1\" class=\"dataframe\">\n",
       "  <thead>\n",
       "    <tr style=\"text-align: right;\">\n",
       "      <th></th>\n",
       "      <th>inspection_id</th>\n",
       "      <th>dba_name</th>\n",
       "      <th>aka_name</th>\n",
       "      <th>license_</th>\n",
       "      <th>zip</th>\n",
       "      <th>inspection_date</th>\n",
       "      <th>inspection_type</th>\n",
       "      <th>violations</th>\n",
       "      <th>BAKERY</th>\n",
       "      <th>GROCERY_STORE</th>\n",
       "      <th>RESTAURANT</th>\n",
       "      <th>RESULTS</th>\n",
       "      <th>HIGH_RISK</th>\n",
       "      <th>MEDIUM_RISK</th>\n",
       "      <th>LOW_RISK</th>\n",
       "      <th>count_violations</th>\n",
       "      <th>CUM_VIOLATIONS</th>\n",
       "    </tr>\n",
       "  </thead>\n",
       "  <tbody>\n",
       "    <tr>\n",
       "      <th>173</th>\n",
       "      <td>120273</td>\n",
       "      <td>QUITEFRANKLY,LTD.</td>\n",
       "      <td>UPS CAFETERIA</td>\n",
       "      <td>0</td>\n",
       "      <td>60607</td>\n",
       "      <td>2010-01-06</td>\n",
       "      <td>CANVASS</td>\n",
       "      <td>{\"33. FOOD AND NON-FOOD CONTACT EQUIPMENT UTEN...</td>\n",
       "      <td>0</td>\n",
       "      <td>0</td>\n",
       "      <td>1</td>\n",
       "      <td>1</td>\n",
       "      <td>1</td>\n",
       "      <td>0</td>\n",
       "      <td>0</td>\n",
       "      <td>4.0</td>\n",
       "      <td>4.0</td>\n",
       "    </tr>\n",
       "    <tr>\n",
       "      <th>2731</th>\n",
       "      <td>68320</td>\n",
       "      <td>TACOS REYNA</td>\n",
       "      <td>None</td>\n",
       "      <td>0</td>\n",
       "      <td>60617</td>\n",
       "      <td>2010-03-02</td>\n",
       "      <td>CONSULTATION</td>\n",
       "      <td>None</td>\n",
       "      <td>0</td>\n",
       "      <td>0</td>\n",
       "      <td>1</td>\n",
       "      <td>0</td>\n",
       "      <td>1</td>\n",
       "      <td>0</td>\n",
       "      <td>0</td>\n",
       "      <td>0.0</td>\n",
       "      <td>4.0</td>\n",
       "    </tr>\n",
       "    <tr>\n",
       "      <th>2342</th>\n",
       "      <td>78339</td>\n",
       "      <td>JEWEL FOOD STORE #3030</td>\n",
       "      <td>JEWEL FOOD STORE #3030</td>\n",
       "      <td>1000572</td>\n",
       "      <td>60649</td>\n",
       "      <td>2010-03-10</td>\n",
       "      <td>COMPLAINT</td>\n",
       "      <td>{\"34. FLOORS: CONSTRUCTED PER CODE, CLEANED, G...</td>\n",
       "      <td>0</td>\n",
       "      <td>1</td>\n",
       "      <td>0</td>\n",
       "      <td>1</td>\n",
       "      <td>1</td>\n",
       "      <td>0</td>\n",
       "      <td>0</td>\n",
       "      <td>1.0</td>\n",
       "      <td>1.0</td>\n",
       "    </tr>\n",
       "    <tr>\n",
       "      <th>2726</th>\n",
       "      <td>114354</td>\n",
       "      <td>NAHA RESTAURANT</td>\n",
       "      <td>NAHA RESTAURANT</td>\n",
       "      <td>1000612</td>\n",
       "      <td>60654</td>\n",
       "      <td>2010-02-26</td>\n",
       "      <td>CANVASS</td>\n",
       "      <td>{\"35. WALLS, CEILINGS, ATTACHED EQUIPMENT CONS...</td>\n",
       "      <td>0</td>\n",
       "      <td>0</td>\n",
       "      <td>1</td>\n",
       "      <td>1</td>\n",
       "      <td>1</td>\n",
       "      <td>0</td>\n",
       "      <td>0</td>\n",
       "      <td>3.0</td>\n",
       "      <td>3.0</td>\n",
       "    </tr>\n",
       "    <tr>\n",
       "      <th>4250</th>\n",
       "      <td>176979</td>\n",
       "      <td>CHICAGOLAND PIZZA &amp; PASTA</td>\n",
       "      <td>CHICAGOLAND PIZZA &amp; PASTA</td>\n",
       "      <td>1000639</td>\n",
       "      <td>60629</td>\n",
       "      <td>2010-04-05</td>\n",
       "      <td>CANVASS</td>\n",
       "      <td>{\"32. FOOD AND NON-FOOD CONTACT SURFACES PROPE...</td>\n",
       "      <td>0</td>\n",
       "      <td>0</td>\n",
       "      <td>1</td>\n",
       "      <td>1</td>\n",
       "      <td>1</td>\n",
       "      <td>0</td>\n",
       "      <td>0</td>\n",
       "      <td>3.0</td>\n",
       "      <td>3.0</td>\n",
       "    </tr>\n",
       "    <tr>\n",
       "      <th>...</th>\n",
       "      <td>...</td>\n",
       "      <td>...</td>\n",
       "      <td>...</td>\n",
       "      <td>...</td>\n",
       "      <td>...</td>\n",
       "      <td>...</td>\n",
       "      <td>...</td>\n",
       "      <td>...</td>\n",
       "      <td>...</td>\n",
       "      <td>...</td>\n",
       "      <td>...</td>\n",
       "      <td>...</td>\n",
       "      <td>...</td>\n",
       "      <td>...</td>\n",
       "      <td>...</td>\n",
       "      <td>...</td>\n",
       "      <td>...</td>\n",
       "    </tr>\n",
       "    <tr>\n",
       "      <th>2614</th>\n",
       "      <td>160280</td>\n",
       "      <td>O'BRIENS RESTAURANT &amp; BAR</td>\n",
       "      <td>O'BRIENS RESTAURANT &amp; BAR</td>\n",
       "      <td>9027</td>\n",
       "      <td>60610</td>\n",
       "      <td>2010-02-25</td>\n",
       "      <td>CANVASS</td>\n",
       "      <td>{\"18. NO EVIDENCE OF RODENT OR INSECT OUTER OP...</td>\n",
       "      <td>0</td>\n",
       "      <td>0</td>\n",
       "      <td>1</td>\n",
       "      <td>0</td>\n",
       "      <td>1</td>\n",
       "      <td>0</td>\n",
       "      <td>0</td>\n",
       "      <td>6.0</td>\n",
       "      <td>6.0</td>\n",
       "    </tr>\n",
       "    <tr>\n",
       "      <th>2857</th>\n",
       "      <td>160282</td>\n",
       "      <td>O'BRIENS RESTAURANT &amp; BAR</td>\n",
       "      <td>O'BRIENS RESTAURANT &amp; BAR</td>\n",
       "      <td>9027</td>\n",
       "      <td>60610</td>\n",
       "      <td>2010-03-04</td>\n",
       "      <td>CANVASS RE-INSPECTION</td>\n",
       "      <td>{\"32. FOOD AND NON-FOOD CONTACT SURFACES PROPE...</td>\n",
       "      <td>0</td>\n",
       "      <td>0</td>\n",
       "      <td>1</td>\n",
       "      <td>1</td>\n",
       "      <td>1</td>\n",
       "      <td>0</td>\n",
       "      <td>0</td>\n",
       "      <td>5.0</td>\n",
       "      <td>11.0</td>\n",
       "    </tr>\n",
       "    <tr>\n",
       "      <th>3370</th>\n",
       "      <td>215247</td>\n",
       "      <td>STAN'S CORNER INC</td>\n",
       "      <td>STAN'S CORNER INC</td>\n",
       "      <td>9498</td>\n",
       "      <td>60638</td>\n",
       "      <td>2010-03-15</td>\n",
       "      <td>CANVASS</td>\n",
       "      <td>{\"34. FLOORS: CONSTRUCTED PER CODE, CLEANED, G...</td>\n",
       "      <td>0</td>\n",
       "      <td>0</td>\n",
       "      <td>1</td>\n",
       "      <td>1</td>\n",
       "      <td>1</td>\n",
       "      <td>0</td>\n",
       "      <td>0</td>\n",
       "      <td>2.0</td>\n",
       "      <td>2.0</td>\n",
       "    </tr>\n",
       "    <tr>\n",
       "      <th>4131</th>\n",
       "      <td>197351</td>\n",
       "      <td>GRANDMA GEBHARDS</td>\n",
       "      <td>GRANDMA GEBHARDS</td>\n",
       "      <td>9616</td>\n",
       "      <td>60602</td>\n",
       "      <td>2010-03-31</td>\n",
       "      <td>CANVASS</td>\n",
       "      <td>{\"30. FOOD IN ORIGINAL CONTAINER, PROPERLY LAB...</td>\n",
       "      <td>0</td>\n",
       "      <td>0</td>\n",
       "      <td>1</td>\n",
       "      <td>1</td>\n",
       "      <td>1</td>\n",
       "      <td>0</td>\n",
       "      <td>0</td>\n",
       "      <td>2.0</td>\n",
       "      <td>2.0</td>\n",
       "    </tr>\n",
       "    <tr>\n",
       "      <th>1502</th>\n",
       "      <td>197244</td>\n",
       "      <td>XANDO COFFEE &amp; BAR / COSI SANDWICH BAR</td>\n",
       "      <td>COSI</td>\n",
       "      <td>99</td>\n",
       "      <td>60601</td>\n",
       "      <td>2010-02-03</td>\n",
       "      <td>CANVASS</td>\n",
       "      <td>{\"33. FOOD AND NON-FOOD CONTACT EQUIPMENT UTEN...</td>\n",
       "      <td>0</td>\n",
       "      <td>0</td>\n",
       "      <td>1</td>\n",
       "      <td>1</td>\n",
       "      <td>1</td>\n",
       "      <td>0</td>\n",
       "      <td>0</td>\n",
       "      <td>4.0</td>\n",
       "      <td>4.0</td>\n",
       "    </tr>\n",
       "  </tbody>\n",
       "</table>\n",
       "<p>3649 rows × 17 columns</p>\n",
       "</div>"
      ],
      "text/plain": [
       "     inspection_id                                dba_name  \\\n",
       "173         120273                       QUITEFRANKLY,LTD.   \n",
       "2731         68320                             TACOS REYNA   \n",
       "2342         78339                  JEWEL FOOD STORE #3030   \n",
       "2726        114354                         NAHA RESTAURANT   \n",
       "4250        176979               CHICAGOLAND PIZZA & PASTA   \n",
       "...            ...                                     ...   \n",
       "2614        160280               O'BRIENS RESTAURANT & BAR   \n",
       "2857        160282               O'BRIENS RESTAURANT & BAR   \n",
       "3370        215247                       STAN'S CORNER INC   \n",
       "4131        197351                        GRANDMA GEBHARDS   \n",
       "1502        197244  XANDO COFFEE & BAR / COSI SANDWICH BAR   \n",
       "\n",
       "                       aka_name license_    zip inspection_date  \\\n",
       "173               UPS CAFETERIA        0  60607      2010-01-06   \n",
       "2731                       None        0  60617      2010-03-02   \n",
       "2342     JEWEL FOOD STORE #3030  1000572  60649      2010-03-10   \n",
       "2726            NAHA RESTAURANT  1000612  60654      2010-02-26   \n",
       "4250  CHICAGOLAND PIZZA & PASTA  1000639  60629      2010-04-05   \n",
       "...                         ...      ...    ...             ...   \n",
       "2614  O'BRIENS RESTAURANT & BAR     9027  60610      2010-02-25   \n",
       "2857  O'BRIENS RESTAURANT & BAR     9027  60610      2010-03-04   \n",
       "3370          STAN'S CORNER INC     9498  60638      2010-03-15   \n",
       "4131           GRANDMA GEBHARDS     9616  60602      2010-03-31   \n",
       "1502                       COSI       99  60601      2010-02-03   \n",
       "\n",
       "            inspection_type  \\\n",
       "173                 CANVASS   \n",
       "2731           CONSULTATION   \n",
       "2342              COMPLAINT   \n",
       "2726                CANVASS   \n",
       "4250                CANVASS   \n",
       "...                     ...   \n",
       "2614                CANVASS   \n",
       "2857  CANVASS RE-INSPECTION   \n",
       "3370                CANVASS   \n",
       "4131                CANVASS   \n",
       "1502                CANVASS   \n",
       "\n",
       "                                             violations  BAKERY  \\\n",
       "173   {\"33. FOOD AND NON-FOOD CONTACT EQUIPMENT UTEN...       0   \n",
       "2731                                               None       0   \n",
       "2342  {\"34. FLOORS: CONSTRUCTED PER CODE, CLEANED, G...       0   \n",
       "2726  {\"35. WALLS, CEILINGS, ATTACHED EQUIPMENT CONS...       0   \n",
       "4250  {\"32. FOOD AND NON-FOOD CONTACT SURFACES PROPE...       0   \n",
       "...                                                 ...     ...   \n",
       "2614  {\"18. NO EVIDENCE OF RODENT OR INSECT OUTER OP...       0   \n",
       "2857  {\"32. FOOD AND NON-FOOD CONTACT SURFACES PROPE...       0   \n",
       "3370  {\"34. FLOORS: CONSTRUCTED PER CODE, CLEANED, G...       0   \n",
       "4131  {\"30. FOOD IN ORIGINAL CONTAINER, PROPERLY LAB...       0   \n",
       "1502  {\"33. FOOD AND NON-FOOD CONTACT EQUIPMENT UTEN...       0   \n",
       "\n",
       "      GROCERY_STORE  RESTAURANT  RESULTS  HIGH_RISK  MEDIUM_RISK  LOW_RISK  \\\n",
       "173               0           1        1          1            0         0   \n",
       "2731              0           1        0          1            0         0   \n",
       "2342              1           0        1          1            0         0   \n",
       "2726              0           1        1          1            0         0   \n",
       "4250              0           1        1          1            0         0   \n",
       "...             ...         ...      ...        ...          ...       ...   \n",
       "2614              0           1        0          1            0         0   \n",
       "2857              0           1        1          1            0         0   \n",
       "3370              0           1        1          1            0         0   \n",
       "4131              0           1        1          1            0         0   \n",
       "1502              0           1        1          1            0         0   \n",
       "\n",
       "      count_violations  CUM_VIOLATIONS  \n",
       "173                4.0             4.0  \n",
       "2731               0.0             4.0  \n",
       "2342               1.0             1.0  \n",
       "2726               3.0             3.0  \n",
       "4250               3.0             3.0  \n",
       "...                ...             ...  \n",
       "2614               6.0             6.0  \n",
       "2857               5.0            11.0  \n",
       "3370               2.0             2.0  \n",
       "4131               2.0             2.0  \n",
       "1502               4.0             4.0  \n",
       "\n",
       "[3649 rows x 17 columns]"
      ]
     },
     "execution_count": 12,
     "metadata": {},
     "output_type": "execute_result"
    }
   ],
   "source": [
    "inspection_data_for_training"
   ]
  },
  {
   "attachments": {},
   "cell_type": "markdown",
   "metadata": {},
   "source": [
    "### Task 3 - Building \"a\" classification model"
   ]
  },
  {
   "cell_type": "markdown",
   "metadata": {},
   "source": [
    "Now we will use these features to build a classification model."
   ]
  },
  {
   "attachments": {},
   "cell_type": "markdown",
   "metadata": {},
   "source": [
    "!DISCLAIMER!\n",
    "\n",
    "This is NOT a modelling workshop so we wont be spending a lot of time in this task.  "
   ]
  },
  {
   "cell_type": "markdown",
   "metadata": {},
   "source": [
    "#### 🔄 Task"
   ]
  },
  {
   "cell_type": "markdown",
   "metadata": {},
   "source": [
    "Since we can utilize our data science skills here, feel free to build a model that works for you. The purpose of this exercise is to build a simple functioning model that we can work with later.(there is no one solution here) "
   ]
  },
  {
   "cell_type": "code",
   "execution_count": null,
   "metadata": {},
   "outputs": [],
   "source": [
    "# your code here"
   ]
  },
  {
   "cell_type": "markdown",
   "metadata": {},
   "source": [
    "One example of a classification model is a random forest model, as built below:"
   ]
  },
  {
   "cell_type": "code",
   "execution_count": 13,
   "metadata": {},
   "outputs": [],
   "source": [
    "# Create training and test split\n",
    "X = inspection_data_for_training.drop(\n",
    "    columns=[\n",
    "        \"license_\",\n",
    "        \"RESULTS\",\n",
    "        \"inspection_id\",\n",
    "        \"dba_name\",\n",
    "        \"aka_name\",\n",
    "        \"inspection_type\",\n",
    "        \"violations\",\n",
    "        \"count_violations\",\n",
    "        \"inspection_date\",\n",
    "        \"zip\",\n",
    "    ]\n",
    ")\n",
    "y = inspection_data_for_training[[\"RESULTS\"]]\n",
    "\n",
    "X_train, X_test, y_train, y_test = train_test_split(X, y)"
   ]
  },
  {
   "cell_type": "code",
   "execution_count": 14,
   "metadata": {},
   "outputs": [
    {
     "data": {
      "text/html": [
       "<style>#sk-container-id-1 {color: black;background-color: white;}#sk-container-id-1 pre{padding: 0;}#sk-container-id-1 div.sk-toggleable {background-color: white;}#sk-container-id-1 label.sk-toggleable__label {cursor: pointer;display: block;width: 100%;margin-bottom: 0;padding: 0.3em;box-sizing: border-box;text-align: center;}#sk-container-id-1 label.sk-toggleable__label-arrow:before {content: \"▸\";float: left;margin-right: 0.25em;color: #696969;}#sk-container-id-1 label.sk-toggleable__label-arrow:hover:before {color: black;}#sk-container-id-1 div.sk-estimator:hover label.sk-toggleable__label-arrow:before {color: black;}#sk-container-id-1 div.sk-toggleable__content {max-height: 0;max-width: 0;overflow: hidden;text-align: left;background-color: #f0f8ff;}#sk-container-id-1 div.sk-toggleable__content pre {margin: 0.2em;color: black;border-radius: 0.25em;background-color: #f0f8ff;}#sk-container-id-1 input.sk-toggleable__control:checked~div.sk-toggleable__content {max-height: 200px;max-width: 100%;overflow: auto;}#sk-container-id-1 input.sk-toggleable__control:checked~label.sk-toggleable__label-arrow:before {content: \"▾\";}#sk-container-id-1 div.sk-estimator input.sk-toggleable__control:checked~label.sk-toggleable__label {background-color: #d4ebff;}#sk-container-id-1 div.sk-label input.sk-toggleable__control:checked~label.sk-toggleable__label {background-color: #d4ebff;}#sk-container-id-1 input.sk-hidden--visually {border: 0;clip: rect(1px 1px 1px 1px);clip: rect(1px, 1px, 1px, 1px);height: 1px;margin: -1px;overflow: hidden;padding: 0;position: absolute;width: 1px;}#sk-container-id-1 div.sk-estimator {font-family: monospace;background-color: #f0f8ff;border: 1px dotted black;border-radius: 0.25em;box-sizing: border-box;margin-bottom: 0.5em;}#sk-container-id-1 div.sk-estimator:hover {background-color: #d4ebff;}#sk-container-id-1 div.sk-parallel-item::after {content: \"\";width: 100%;border-bottom: 1px solid gray;flex-grow: 1;}#sk-container-id-1 div.sk-label:hover label.sk-toggleable__label {background-color: #d4ebff;}#sk-container-id-1 div.sk-serial::before {content: \"\";position: absolute;border-left: 1px solid gray;box-sizing: border-box;top: 0;bottom: 0;left: 50%;z-index: 0;}#sk-container-id-1 div.sk-serial {display: flex;flex-direction: column;align-items: center;background-color: white;padding-right: 0.2em;padding-left: 0.2em;position: relative;}#sk-container-id-1 div.sk-item {position: relative;z-index: 1;}#sk-container-id-1 div.sk-parallel {display: flex;align-items: stretch;justify-content: center;background-color: white;position: relative;}#sk-container-id-1 div.sk-item::before, #sk-container-id-1 div.sk-parallel-item::before {content: \"\";position: absolute;border-left: 1px solid gray;box-sizing: border-box;top: 0;bottom: 0;left: 50%;z-index: -1;}#sk-container-id-1 div.sk-parallel-item {display: flex;flex-direction: column;z-index: 1;position: relative;background-color: white;}#sk-container-id-1 div.sk-parallel-item:first-child::after {align-self: flex-end;width: 50%;}#sk-container-id-1 div.sk-parallel-item:last-child::after {align-self: flex-start;width: 50%;}#sk-container-id-1 div.sk-parallel-item:only-child::after {width: 0;}#sk-container-id-1 div.sk-dashed-wrapped {border: 1px dashed gray;margin: 0 0.4em 0.5em 0.4em;box-sizing: border-box;padding-bottom: 0.4em;background-color: white;}#sk-container-id-1 div.sk-label label {font-family: monospace;font-weight: bold;display: inline-block;line-height: 1.2em;}#sk-container-id-1 div.sk-label-container {text-align: center;}#sk-container-id-1 div.sk-container {/* jupyter's `normalize.less` sets `[hidden] { display: none; }` but bootstrap.min.css set `[hidden] { display: none !important; }` so we also need the `!important` here to be able to override the default hidden behavior on the sphinx rendered scikit-learn.org. See: https://github.com/scikit-learn/scikit-learn/issues/21755 */display: inline-block !important;position: relative;}#sk-container-id-1 div.sk-text-repr-fallback {display: none;}</style><div id=\"sk-container-id-1\" class=\"sk-top-container\"><div class=\"sk-text-repr-fallback\"><pre>RandomForestClassifier(max_depth=10, random_state=0)</pre><b>In a Jupyter environment, please rerun this cell to show the HTML representation or trust the notebook. <br />On GitHub, the HTML representation is unable to render, please try loading this page with nbviewer.org.</b></div><div class=\"sk-container\" hidden><div class=\"sk-item\"><div class=\"sk-estimator sk-toggleable\"><input class=\"sk-toggleable__control sk-hidden--visually\" id=\"sk-estimator-id-1\" type=\"checkbox\" checked><label for=\"sk-estimator-id-1\" class=\"sk-toggleable__label sk-toggleable__label-arrow\">RandomForestClassifier</label><div class=\"sk-toggleable__content\"><pre>RandomForestClassifier(max_depth=10, random_state=0)</pre></div></div></div></div></div>"
      ],
      "text/plain": [
       "RandomForestClassifier(max_depth=10, random_state=0)"
      ]
     },
     "execution_count": 14,
     "metadata": {},
     "output_type": "execute_result"
    }
   ],
   "source": [
    "# Train a random forest model\n",
    "clf = RandomForestClassifier(max_depth=10, random_state=0)\n",
    "clf.fit(X_train, np.ravel(y_train))"
   ]
  },
  {
   "cell_type": "code",
   "execution_count": 15,
   "metadata": {},
   "outputs": [],
   "source": [
    "# test predictions\n",
    "y_pred = clf.predict(X_test)\n"
   ]
  },
  {
   "cell_type": "code",
   "execution_count": 16,
   "metadata": {},
   "outputs": [
    {
     "name": "stdout",
     "output_type": "stream",
     "text": [
      "0.5789290259492332\n"
     ]
    }
   ],
   "source": [
    "mse = metrics.mean_squared_error(y_test, y_pred)\n",
    "\n",
    "print(np.sqrt(mse))"
   ]
  },
  {
   "attachments": {},
   "cell_type": "markdown",
   "metadata": {},
   "source": [
    "### Task 4 - Vetiver model deployment"
   ]
  },
  {
   "cell_type": "markdown",
   "metadata": {},
   "source": [
    "Now that we have a functioning model, we will use the *vetiver* framework to deploy it to Posit Connect"
   ]
  },
  {
   "cell_type": "markdown",
   "metadata": {},
   "source": [
    "#### 🔄 Task"
   ]
  },
  {
   "cell_type": "markdown",
   "metadata": {},
   "source": [
    "In this task:\n",
    "- Install the *vetiver* and *pins* package in your virtual environment\n",
    "- Convert your model to a Vetiver model\n",
    "- Add a model board for workshop Posit Connect instance\n",
    "- Use *vetiver*'s vetiver_pin_write function to deploy the model as a pin on to Connect\n",
    "- Use *vetiver*'s deploy_rsconnect function to deploy the model as an API on to Connect\n",
    "- Test out the API using the *vetiver.predict* function"
   ]
  },
  {
   "cell_type": "code",
   "execution_count": null,
   "metadata": {},
   "outputs": [],
   "source": [
    "# your code here\n",
    "\n",
    "# start by creating a vetiver model\n",
    "v = vetiver.VetiverModel(\n",
    "    # change username in model name\n",
    "    model=..., model_name=\"[USER.NAME]/inspection_results\", prototype_data=X_train[:1]\n",
    ")\n",
    "# then create a pins model board for Connect\n",
    "model_board = pins.board_connect(\n",
    "    server_url=...,\n",
    "    api_key=...,\n",
    "    allow_pickle_read=True\n",
    ")\n",
    "\n",
    "# use vetiver_pin_write to write the moel as a pin\n",
    "vetiver.vetiver_pin_write(board=..., model=...)\n",
    "\n",
    "# use vetiver_deploy_connect to deploy the model as an API\n",
    "rsc_server = os.getenv(\"CONNECT_SERVER\")\n",
    "rsc_key = os.getenv(\"CONNECT_API_KEY\")\n",
    "connect_server = rsconnect.api.RSConnectServer(url=rsc_server, api_key=rsc_key)\n",
    "\n",
    "\n",
    "vetiver.deploy_rsconnect(\n",
    "    connect_server=...,\n",
    "    board=...,\n",
    "    # change username in pin name\n",
    "    pin_name=\"[USER.NAME]/inspection_results\",\n",
    ")\n",
    "# test model predictions using the API\n",
    "..."
   ]
  },
  {
   "attachments": {},
   "cell_type": "markdown",
   "metadata": {},
   "source": [
    "### Task 5 - Explore API performance tuning on Posit Connect"
   ]
  },
  {
   "cell_type": "markdown",
   "metadata": {},
   "source": [
    "#### 🔄 Task"
   ]
  },
  {
   "cell_type": "markdown",
   "metadata": {},
   "source": [
    "Now that our model has been deployed as an API on Connect and we can make predictions from it, explore what options we have on Connect to make this API available to other consumers. Some questions to consider:\n",
    "- How do we make sure our API is always available?\n",
    "- How many external processes would be using the API?\n",
    "- Who and what process would have access to it?"
   ]
  },
  {
   "cell_type": "markdown",
   "metadata": {},
   "source": [
    "More details on what settings can be tuned are available [here](https://docs.posit.co/connect/user/content-settings/#content-runtime)"
   ]
  },
  {
   "attachments": {},
   "cell_type": "markdown",
   "metadata": {},
   "source": [
    "### Task 6 - Schedule model run for regular deployments"
   ]
  },
  {
   "cell_type": "markdown",
   "metadata": {},
   "source": [
    "Now that we have built and deployed the model, we can deploy the code that generates the model also on Connect to refresh the model performance "
   ]
  },
  {
   "cell_type": "markdown",
   "metadata": {},
   "source": [
    "#### 🔄 Task"
   ]
  },
  {
   "cell_type": "markdown",
   "metadata": {},
   "source": [
    "Use the *rsconnect-python* deployment functionality learned in the previous exercise to deploy your notebook"
   ]
  },
  {
   "cell_type": "code",
   "execution_count": null,
   "metadata": {},
   "outputs": [],
   "source": [
    "# your code here"
   ]
  },
  {
   "cell_type": "markdown",
   "metadata": {},
   "source": [
    "After deployment, explore the scheduling options available on Connect. More details can be found [here](https://docs.posit.co/connect/user/scheduling/)"
   ]
  }
 ],
 "metadata": {
  "kernelspec": {
   "display_name": ".venv",
   "language": "python",
   "name": "python3"
  },
  "language_info": {
   "codemirror_mode": {
    "name": "ipython",
    "version": 3
   },
   "file_extension": ".py",
   "mimetype": "text/x-python",
   "name": "python",
   "nbconvert_exporter": "python",
   "pygments_lexer": "ipython3",
   "version": "3.11.3"
  },
  "orig_nbformat": 4,
  "vscode": {
   "interpreter": {
    "hash": "d4522a30a08353a3cc6dba7fc0912bbe94b06cd063501b76bbec13eb2decdbb5"
   }
  }
 },
 "nbformat": 4,
 "nbformat_minor": 2
}

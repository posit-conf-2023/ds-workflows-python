{
 "cells": [
  {
   "attachments": {},
   "cell_type": "markdown",
   "metadata": {},
   "source": [
    "# Model Monitoring & Model Card\n",
    "\n",
    "In this exercise we will simulate an environment where we have model training data from multi day runs for our previoulsy built model, and explore Vetiver's monitoring functions.\n",
    "<br>\n",
    "We will also use the model card framework from vetiver to build a model card for this workflow."
   ]
  },
  {
   "cell_type": "markdown",
   "metadata": {},
   "source": [
    "```bash\n",
    "# deactivate older venv\n",
    "deactivate \n",
    "\n",
    "# Create a virtual environment\n",
    "# Use our alias!\n",
    "py-venv\n",
    "python -m pip install -r requirements.txt\n",
    "\n",
    "```"
   ]
  },
  {
   "cell_type": "code",
   "execution_count": null,
   "metadata": {},
   "outputs": [],
   "source": [
    "# import required libraries\n",
    "import os\n",
    "from datetime import datetime, timedelta\n",
    "\n",
    "import ibis\n",
    "import numpy as np\n",
    "import pandas as pd\n",
    "import pins\n",
    "import requests\n",
    "import rsconnect\n",
    "import vetiver\n",
    "import xgboost as xgb\n",
    "from dotenv import load_dotenv\n",
    "from sklearn import metrics\n",
    "from sklearn.ensemble import RandomForestClassifier\n",
    "from sklearn.model_selection import train_test_split\n",
    "from sqlalchemy import create_engine\n",
    "import re"
   ]
  },
  {
   "attachments": {},
   "cell_type": "markdown",
   "metadata": {},
   "source": [
    "### Task 1 - Build mulitple days training data"
   ]
  },
  {
   "attachments": {},
   "cell_type": "markdown",
   "metadata": {},
   "source": [
    "#### 🔄 Task "
   ]
  },
  {
   "attachments": {},
   "cell_type": "markdown",
   "metadata": {},
   "source": [
    "This is a simulation exercise as we do not have training data from future runs of the model. <br> Use the code provided below to generate a simulated dataset for this workflow"
   ]
  },
  {
   "cell_type": "code",
   "execution_count": 2,
   "metadata": {},
   "outputs": [],
   "source": [
    "# # Simulate multiple days of input data\n",
    "data = X_test.copy()\n",
    "data[\"RESULTS\"] = y_test\n",
    "data[\"date_obs\"] = \"\"\n",
    "data"
   ]
  },
  {
   "cell_type": "code",
   "execution_count": null,
   "metadata": {},
   "outputs": [],
   "source": [
    "# # to make predictions, change the endpoint to your model\n",
    "endpoint = \"\"\n",
    "data[\"preds\"] = vetiver.predict(endpoint, data).iloc[:, 0].values\n"
   ]
  },
  {
   "cell_type": "code",
   "execution_count": null,
   "metadata": {},
   "outputs": [],
   "source": [
    "# # add last three dates\n",
    "day_list = [\n",
    "    (pd.Timestamp.today() - timedelta(days=2)).strftime(\"%Y-%m-%d\"),\n",
    "    (pd.Timestamp.today() - timedelta(days=1)).strftime(\"%Y-%m-%d\"),\n",
    "    (pd.Timestamp.today().strftime(\"%Y-%m-%d\")),\n",
    "]\n",
    "day_list\n",
    "\n",
    "data[\"date_obs\"] = np.random.choice(day_list, size=len(data))\n"
   ]
  },
  {
   "cell_type": "code",
   "execution_count": null,
   "metadata": {},
   "outputs": [],
   "source": [
    "# pin this dataset for use in model card\n",
    "board.pin_write(data,\"[USER_NAME]/inspection_results_monitoring\",type=\"parquet\")\n"
   ]
  },
  {
   "attachments": {},
   "cell_type": "markdown",
   "metadata": {},
   "source": [
    "### Task 2 - Build model monitoring metrics and explore further deployment"
   ]
  },
  {
   "cell_type": "markdown",
   "metadata": {},
   "source": [
    "#### 🔄 Task "
   ]
  },
  {
   "cell_type": "markdown",
   "metadata": {},
   "source": [
    "We will now use the metrics compute feature in Vetiver to build a moniotring stratedy.\n",
    "- Identify which metrics to monitor\n",
    "- Calculate the said metrics\n",
    "- Save the results as pin"
   ]
  },
  {
   "cell_type": "markdown",
   "metadata": {},
   "source": [
    "Once we have a verison of the metrics deployed, explore how we can further this step in a real world situation using Posit Connect's scheduling feature"
   ]
  },
  {
   "cell_type": "code",
   "execution_count": null,
   "metadata": {},
   "outputs": [],
   "source": [
    "# define which metrics to track\n",
    "metric_set = [metrics.mean_absolute_error, metrics.mean_squared_error, metrics.r2_score]\n",
    "\n",
    "# choose time period to track over\n",
    "td = timedelta(days=1)\n",
    "\n",
    "# calculate metrics\n",
    "original_metrics = vetiver.compute_metrics(\n",
    "    data=data,\n",
    "    date_var=\"date_obs\",\n",
    "    period=td,\n",
    "    metric_set=metric_set,\n",
    "    truth=\"RESULTS\",\n",
    "    estimate=\"preds\",\n",
    ")\n",
    "\n",
    "# Write metrics as a pin\n",
    "model_board.pin_write(original_metrics, \"gagan/inspection_model_metrics\", type=\"csv\")"
   ]
  },
  {
   "attachments": {},
   "cell_type": "markdown",
   "metadata": {},
   "source": [
    "### Task 3 - Building a model card"
   ]
  },
  {
   "cell_type": "markdown",
   "metadata": {},
   "source": [
    "#### 🔄 Task "
   ]
  },
  {
   "cell_type": "markdown",
   "metadata": {},
   "source": [
    "Use *vetiver.model_card* function to generate a model card sample.\n",
    "<br>Open the sample and explore what sections are there. Then, edit the card with relavant information of our example and deploy on Posit Connect"
   ]
  },
  {
   "cell_type": "code",
   "execution_count": null,
   "metadata": {},
   "outputs": [],
   "source": [
    "vetiver.model_card()"
   ]
  }
 ],
 "metadata": {
  "kernelspec": {
   "display_name": ".venv",
   "language": "python",
   "name": "python3"
  },
  "language_info": {
   "codemirror_mode": {
    "name": "ipython",
    "version": 3
   },
   "file_extension": ".py",
   "mimetype": "text/x-python",
   "name": "python",
   "nbconvert_exporter": "python",
   "pygments_lexer": "ipython3",
   "version": "3.11.3"
  },
  "orig_nbformat": 4,
  "vscode": {
   "interpreter": {
    "hash": "d4522a30a08353a3cc6dba7fc0912bbe94b06cd063501b76bbec13eb2decdbb5"
   }
  }
 },
 "nbformat": 4,
 "nbformat_minor": 2
}
